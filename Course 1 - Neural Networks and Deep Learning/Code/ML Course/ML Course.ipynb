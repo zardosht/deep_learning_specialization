{
 "cells": [
  {
   "cell_type": "code",
   "execution_count": 2,
   "metadata": {},
   "outputs": [
    {
     "name": "stdout",
     "output_type": "stream",
     "text": [
      "250059.54388516812\n",
      "Using Vectorization: 1.8298625946ms\n",
      "==========================\n",
      "250059.54388517124\n",
      "Using For Loop: 431.594133377ms\n"
     ]
    }
   ],
   "source": [
    "import numpy as np\n",
    "import time\n",
    "\n",
    "a = np.random.rand(1000000)\n",
    "b = np.random.rand(1000000)\n",
    "\n",
    "tic = time.time()\n",
    "c = np.dot(a, b)\n",
    "toc = time.time()\n",
    "print(c)\n",
    "print(\"Using Vectorization: \" + str((toc - tic) * 1000) + \"ms\")\n",
    "\n",
    "print(\"==========================\")\n",
    "\n",
    "c = 0\n",
    "tic = time.time()\n",
    "for i in range(1000000):\n",
    "    c += a[i] * b[i]\n",
    "    \n",
    "toc = time.time()\n",
    "print(c)\n",
    "print(\"Using For Loop: \" + str((toc - tic) * 1000) + \"ms\")\n",
    "\n"
   ]
  },
  {
   "cell_type": "code",
   "execution_count": 3,
   "metadata": {},
   "outputs": [
    {
     "name": "stdout",
     "output_type": "stream",
     "text": [
      "(3, 3)\n",
      "[[-0.25984661 -0.36588205 -0.13105908]\n",
      " [ 0.38436822  1.06641882  0.88507126]\n",
      " [-0.8888232  -1.42784764 -1.37503303]]\n"
     ]
    }
   ],
   "source": [
    "a = np.random.randn(3, 3)\n",
    "b = np.random.randn(3, 1)\n",
    "c = a*b\n",
    "print(np.shape(c))\n",
    "print(c)"
   ]
  },
  {
   "cell_type": "code",
   "execution_count": 4,
   "metadata": {},
   "outputs": [
    {
     "name": "stdout",
     "output_type": "stream",
     "text": [
      "Array X:\n",
      "[[[0 1 2]\n",
      "  [3 4 5]\n",
      "  [6 7 8]]]\n",
      "\n",
      "\n",
      "Array Y:\n",
      "[[0 1 2]\n",
      " [3 4 5]\n",
      " [6 7 8]]\n",
      "\n",
      "\n",
      "The shapes of X and Y array:\n",
      "(1, 3, 3) (3, 3)\n"
     ]
    }
   ],
   "source": [
    "import numpy as np  \n",
    "x = np.arange(9).reshape(1,3,3) \n",
    "\n",
    "print 'Array X:' \n",
    "print x \n",
    "print '\\n'  \n",
    "y = np.squeeze(x) \n",
    "\n",
    "print 'Array Y:' \n",
    "print y \n",
    "print '\\n'  \n",
    "\n",
    "print 'The shapes of X and Y array:' \n",
    "print x.shape, y.shape\n"
   ]
  },
  {
   "cell_type": "code",
   "execution_count": 6,
   "metadata": {},
   "outputs": [
    {
     "name": "stdout",
     "output_type": "stream",
     "text": [
      "(4, 1)\n"
     ]
    }
   ],
   "source": [
    "A = np.random.randn(4,3)\n",
    "B = np.sum(A, axis = 1, keepdims = True)\n",
    "print(np.shape(B))"
   ]
  },
  {
   "cell_type": "code",
   "execution_count": 9,
   "metadata": {},
   "outputs": [
    {
     "name": "stdout",
     "output_type": "stream",
     "text": [
      "True\n"
     ]
    }
   ],
   "source": [
    "a = 0.6930587610394646\n",
    "assert(isinstance(a, float))\n",
    "print(isinstance(a, float))"
   ]
  },
  {
   "cell_type": "code",
   "execution_count": 28,
   "metadata": {},
   "outputs": [
    {
     "name": "stdout",
     "output_type": "stream",
     "text": [
      "[[1]\n",
      " [2]\n",
      " [3]\n",
      " [4]]\n",
      "(4, 1)\n",
      "   \n",
      "[[7 8]]\n",
      "(1, 2)\n",
      "   \n",
      "[[ 7  8]\n",
      " [14 16]\n",
      " [21 24]\n",
      " [28 32]]\n",
      "(4, 2)\n",
      "   \n"
     ]
    },
    {
     "ename": "ValueError",
     "evalue": "shapes (4,1) and (2,1) not aligned: 1 (dim 1) != 2 (dim 0)",
     "output_type": "error",
     "traceback": [
      "\u001b[0;31m---------------------------------------------------------------------------\u001b[0m",
      "\u001b[0;31mValueError\u001b[0m                                Traceback (most recent call last)",
      "\u001b[0;32m<ipython-input-28-93bc1adf18a4>\u001b[0m in \u001b[0;36m<module>\u001b[0;34m()\u001b[0m\n\u001b[1;32m     14\u001b[0m \u001b[0;32mprint\u001b[0m\u001b[0;34m(\u001b[0m\u001b[0;34m\"   \"\u001b[0m\u001b[0;34m)\u001b[0m\u001b[0;34m\u001b[0m\u001b[0m\n\u001b[1;32m     15\u001b[0m \u001b[0;34m\u001b[0m\u001b[0m\n\u001b[0;32m---> 16\u001b[0;31m \u001b[0md\u001b[0m \u001b[0;34m=\u001b[0m \u001b[0mnp\u001b[0m\u001b[0;34m.\u001b[0m\u001b[0mdot\u001b[0m\u001b[0;34m(\u001b[0m\u001b[0ma\u001b[0m\u001b[0;34m,\u001b[0m \u001b[0mb\u001b[0m\u001b[0;34m.\u001b[0m\u001b[0mT\u001b[0m\u001b[0;34m)\u001b[0m\u001b[0;34m\u001b[0m\u001b[0m\n\u001b[0m\u001b[1;32m     17\u001b[0m \u001b[0;32mprint\u001b[0m\u001b[0;34m(\u001b[0m\u001b[0md\u001b[0m\u001b[0;34m)\u001b[0m\u001b[0;34m\u001b[0m\u001b[0m\n\u001b[1;32m     18\u001b[0m \u001b[0;32mprint\u001b[0m\u001b[0;34m(\u001b[0m\u001b[0md\u001b[0m\u001b[0;34m.\u001b[0m\u001b[0mshape\u001b[0m\u001b[0;34m)\u001b[0m\u001b[0;34m\u001b[0m\u001b[0m\n",
      "\u001b[0;31mValueError\u001b[0m: shapes (4,1) and (2,1) not aligned: 1 (dim 1) != 2 (dim 0)"
     ]
    }
   ],
   "source": [
    "a = np.arange(1, 5).reshape(4,1)\n",
    "print(a)\n",
    "print(a.shape)\n",
    "print(\"   \")\n",
    "\n",
    "b = np.arange(7, 9).reshape(1, 2)\n",
    "print(b)\n",
    "print(b.shape)\n",
    "print(\"   \")\n",
    "\n",
    "c = np.outer(a, b)\n",
    "print(c)\n",
    "print(c.shape)\n",
    "print(\"   \")\n",
    "\n",
    "d = np.dot(a, b.T)\n",
    "print(d)\n",
    "print(d.shape)\n",
    "print(\"   \")\n"
   ]
  },
  {
   "cell_type": "code",
   "execution_count": null,
   "metadata": {
    "collapsed": true
   },
   "outputs": [],
   "source": []
  }
 ],
 "metadata": {
  "kernelspec": {
   "display_name": "Python 2",
   "language": "python",
   "name": "python2"
  },
  "language_info": {
   "codemirror_mode": {
    "name": "ipython",
    "version": 2
   },
   "file_extension": ".py",
   "mimetype": "text/x-python",
   "name": "python",
   "nbconvert_exporter": "python",
   "pygments_lexer": "ipython2",
   "version": "2.7.15"
  }
 },
 "nbformat": 4,
 "nbformat_minor": 2
}
