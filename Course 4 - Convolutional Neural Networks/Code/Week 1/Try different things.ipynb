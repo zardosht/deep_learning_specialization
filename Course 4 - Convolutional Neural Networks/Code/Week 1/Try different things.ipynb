{
 "cells": [
  {
   "cell_type": "code",
   "execution_count": 6,
   "metadata": {},
   "outputs": [
    {
     "name": "stdout",
     "output_type": "stream",
     "text": [
      "[ 1  2  3  4  5  6  7  8  9 10 11 12 13 14 15 16 17 18 19 20 21 22 23 24\n",
      " 25 26 27 28 29 30 31 32 33 34 35]\n"
     ]
    }
   ],
   "source": [
    "import numpy as np\n",
    "\n",
    "n_H_prev = 5\n",
    "n_W_prev = 7\n",
    "A_prev = np.arange(n_H_prev*n_W_prev) + 1\n",
    "\n",
    "# A_prev = A_prev.reshape(1, n_H_prev, n_W_prev, 1)\n",
    "\n",
    "print (A_prev)"
   ]
  },
  {
   "cell_type": "code",
   "execution_count": null,
   "metadata": {},
   "outputs": [],
   "source": [
    "# Give A_prev 1 training example and 1 channel, so that\n",
    "# A_prev.shape = (1, n_H_prev, n_W_prev, 1)\n",
    "# n_H_prev and n_W_prev can be anything, \n",
    "# as can any elements of A_prev\n",
    "n_H_prev = 5\n",
    "n_W_prev = 7\n",
    "A_prev = np.arange(n_H_prev*n_W_prev) + 1\n",
    "A_prev = A_prev.reshape((1, n_H_prev, n_W_prev, 1))\n",
    "\n",
    "# Make W a single 1-channel, 3x3 filter of all zeros,  \n",
    "# except for a 1 in the center\n",
    "W = np.zeros((3,3,1,1))\n",
    "W[1,1,0,0] = 1\n",
    "\n",
    "# Zero out b, with the appropriate dimensionality\n",
    "b = np.zeros((1,1,1,1))\n",
    "\n",
    "# Same padding: f = 3 ==> pad = (f-1)/2 = 1, stride = 1\n",
    "hparameters = {\"pad\":1, \"stride\":1}\n",
    "\n",
    "# Run conv_forward()\n",
    "Z, cache_conv = conv_forward(A_prev, W, b, hparameters)\n",
    "\n",
    "# If every element of the inner 2 dimensions of Z \n",
    "# doesn't match every element of the inner 2 \n",
    "# dimensions of A_prev, something's wrong\n",
    "Z[0,:,:,0] == A_prev[0,:,:,0]"
   ]
  }
 ],
 "metadata": {
  "kernelspec": {
   "display_name": "Python 3",
   "language": "python",
   "name": "python3"
  },
  "language_info": {
   "codemirror_mode": {
    "name": "ipython",
    "version": 3
   },
   "file_extension": ".py",
   "mimetype": "text/x-python",
   "name": "python",
   "nbconvert_exporter": "python",
   "pygments_lexer": "ipython3",
   "version": "3.6.5"
  }
 },
 "nbformat": 4,
 "nbformat_minor": 2
}
